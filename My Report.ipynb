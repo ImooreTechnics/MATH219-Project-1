{
 "cells": [
  {
   "cell_type": "code",
   "execution_count": null,
   "metadata": {},
   "outputs": [],
   "source": []
  },
  {
   "cell_type": "markdown",
   "metadata": {},
   "source": [
    "## My Report:\n",
    "\n",
    "This code comes from the Data Catalog from Delaware.gov.\n",
    "\n",
    "Link:https://catalog.data.gov/dataset/death-rates-for-suicide-by-sex-race-hispanic-origin-and-age-united-states-020c1\n",
    "\n",
    "\n",
    "First, I removed all rows with ‘All ages’ listed in the AGES column. This was 1624 instances of it in the rows, meaning 812 rows had it. For my project, I wanted to see all the different lines for each age, and this ‘All ages’ category appeared to do the work for me.\n",
    "\n",
    "I removed all rows with ‘65 years and over’ listed in the AGES column. This was 2048 of the rows, meaning 1024 rows had it. Some rows had values in ESTIMATE, but like with the ‘All ages,’ I wanted to see all the different lines for each race and age–this appears to work for me. \n",
    "\n",
    "I removed all rows with  85 years and over’ listed in the AGES column. This was 424 rows, meaning 212 rows had it. Some rows had values in ESTIMATE, but like with the ‘All ages,’ I wanted to see all the different lines for each race and age–this appears to work for me. \n",
    "\n",
    "I removed all rows with ‘Hispanic or Latino: All races:’ in the STUB_LABEL category. There were 258 instances in the rows, so 129 rows had it. I wanted to look at individual races. Also, a bunch of these lines had no value in ESTIMATE.\n",
    "\n",
    "I removed all rows that dealt with just ‘Sex, ‘' Age, ' and ‘Sex and age’ in the STUB_NAME category. This was a combined total of 1,513 rows. I wanted to deal with all three, so the ‘Sex, age, and race’ category was the only one that I kept. \n",
    "\n",
    "I removed all 774 rows in ‘Not Hispanic or Latino: (insert race)’ in the STUB_Label category. Whether each race was Hispanic or Latino was of no importance to me.\n",
    "\n",
    "I also removed the FLAG category. This was of no importance, as most rows didn’t have any data in this category anyway.\n",
    "\n",
    "This left me with 1,177 usable rows, five categorical, and six quantitative columns.\n",
    "\n",
    "\n",
    "\n",
    "\n",
    "Question: Given the demographic data of individuals I did (which included age, race, and sex), can we predict whether they are more likely to have a high or low risk of suicide? It seems like we can to an extent.\n",
    "\n",
    "For a prediction of a quantitative outcome:\n",
    "Question: Can we predict the estimated suicide rate per 100,000 resident population based on singular demographic factors such as age, race, or sex? Would the plots look the same? I personally believe that more things have to be accounted for, that’s why I got rid of the less descriptive ones.\n",
    "\n"
   ]
  }
 ],
 "metadata": {
  "language_info": {
   "name": "python"
  }
 },
 "nbformat": 4,
 "nbformat_minor": 2
}
